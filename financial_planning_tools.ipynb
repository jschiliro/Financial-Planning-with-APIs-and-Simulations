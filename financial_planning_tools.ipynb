{
 "cells": [
  {
   "cell_type": "markdown",
   "metadata": {},
   "source": [
    "# Financial Planning with APIs and Simulations\n",
    "\n",
    "In this Challenge, you’ll create two financial analysis tools by using a single Jupyter notebook:\n",
    "\n",
    "Part 1: A financial planner for emergencies. The members will be able to use this tool to visualize their current savings. The members can then determine if they have enough reserves for an emergency fund.\n",
    "\n",
    "Part 2: A financial planner for retirement. This tool will forecast the performance of their retirement portfolio in 30 years. To do this, the tool will make an Alpaca API call via the Alpaca SDK to get historical price data for use in Monte Carlo simulations.\n",
    "\n",
    "You’ll use the information from the Monte Carlo simulation to answer questions about the portfolio in your Jupyter notebook.\n",
    "\n"
   ]
  },
  {
   "cell_type": "code",
   "execution_count": 1,
   "metadata": {},
   "outputs": [],
   "source": [
    "# Import the required libraries and dependencies\n",
    "import os\n",
    "import requests\n",
    "import json\n",
    "import pandas as pd\n",
    "from dotenv import load_dotenv\n",
    "import alpaca_trade_api as tradeapi\n",
    "from MCForecastTools import MCSimulation\n",
    "\n",
    "%matplotlib inline"
   ]
  },
  {
   "cell_type": "code",
   "execution_count": 2,
   "metadata": {},
   "outputs": [
    {
     "data": {
      "text/plain": [
       "True"
      ]
     },
     "execution_count": 2,
     "metadata": {},
     "output_type": "execute_result"
    }
   ],
   "source": [
    "# Load the environment variables from the .env file\n",
    "#by calling the load_dotenv function\n",
    "load_dotenv('keys.env')"
   ]
  },
  {
   "cell_type": "markdown",
   "metadata": {},
   "source": [
    "## Part 1: Create a Financial Planner for Emergencies"
   ]
  },
  {
   "cell_type": "markdown",
   "metadata": {},
   "source": [
    "### Evaluate the Cryptocurrency Wallet by Using the Requests Library\n",
    "\n",
    "In this section, you’ll determine the current value of a member’s cryptocurrency wallet. You’ll collect the current prices for the Bitcoin and Ethereum cryptocurrencies by using the Python Requests library. For the prototype, you’ll assume that the member holds the 1.2 Bitcoins (BTC) and 5.3 Ethereum coins (ETH). To do all this, complete the following steps:\n",
    "\n",
    "1. Create a variable named `monthly_income`, and set its value to `12000`.\n",
    "\n",
    "2. Use the Requests library to get the current price (in US dollars) of Bitcoin (BTC) and Ethereum (ETH) by using the API endpoints that the starter code supplies.\n",
    "\n",
    "3. Navigate the JSON response object to access the current price of each coin, and store each in a variable.\n",
    "\n",
    "    > **Hint** Note the specific identifier for each cryptocurrency in the API JSON response. The Bitcoin identifier is `1`, and the Ethereum identifier is `1027`.\n",
    "\n",
    "4. Calculate the value, in US dollars, of the current amount of each cryptocurrency and of the entire cryptocurrency wallet.\n",
    "\n"
   ]
  },
  {
   "cell_type": "code",
   "execution_count": 3,
   "metadata": {},
   "outputs": [],
   "source": [
    "# The current number of coins for each cryptocurrency asset held in the portfolio.\n",
    "btc_coins = 1.2\n",
    "eth_coins = 5.3"
   ]
  },
  {
   "cell_type": "markdown",
   "metadata": {},
   "source": [
    "#### Step 1: Create a variable named `monthly_income`, and set its value to `12000`."
   ]
  },
  {
   "cell_type": "code",
   "execution_count": 4,
   "metadata": {},
   "outputs": [],
   "source": [
    "# The monthly amount for the member's household income\n",
    "monthly_income = 12000\n"
   ]
  },
  {
   "cell_type": "markdown",
   "metadata": {},
   "source": [
    "#### Review the endpoint URLs for the API calls to Free Crypto API in order to get the current pricing information for both BTC and ETH."
   ]
  },
  {
   "cell_type": "code",
   "execution_count": 5,
   "metadata": {},
   "outputs": [],
   "source": [
    "# The Free Crypto API Call endpoint URLs for the held cryptocurrency assets\n",
    "btc_url = \"https://api.alternative.me/v2/ticker/Bitcoin/?convert=USD\"\n",
    "eth_url = \"https://api.alternative.me/v2/ticker/Ethereum/?convert=USD\""
   ]
  },
  {
   "cell_type": "markdown",
   "metadata": {},
   "source": [
    "#### Step 2. Use the Requests library to get the current price (in US dollars) of Bitcoin (BTC) and Ethereum (ETH) by using the API endpoints that the starter code supplied."
   ]
  },
  {
   "cell_type": "code",
   "execution_count": 7,
   "metadata": {},
   "outputs": [
    {
     "name": "stdout",
     "output_type": "stream",
     "text": [
      "{\n",
      "    \"data\": {\n",
      "        \"1\": {\n",
      "            \"id\": 1,\n",
      "            \"name\": \"Bitcoin\",\n",
      "            \"symbol\": \"BTC\",\n",
      "            \"website_slug\": \"bitcoin\",\n",
      "            \"rank\": 1,\n",
      "            \"circulating_supply\": 19017237,\n",
      "            \"total_supply\": 19017237,\n",
      "            \"max_supply\": 21000000,\n",
      "            \"quotes\": {\n",
      "                \"USD\": {\n",
      "                    \"price\": 41447.0,\n",
      "                    \"volume_24h\": 24560963994,\n",
      "                    \"market_cap\": 787928419352,\n",
      "                    \"percentage_change_1h\": 0.530154037317432,\n",
      "                    \"percentage_change_24h\": 0.327977840282944,\n",
      "                    \"percentage_change_7d\": 3.08685605203329,\n",
      "                    \"percent_change_1h\": 0.530154037317432,\n",
      "                    \"percent_change_24h\": 0.327977840282944,\n",
      "                    \"percent_change_7d\": 3.08685605203329\n",
      "                }\n",
      "            },\n",
      "            \"last_updated\": 1650489866\n",
      "        }\n",
      "    },\n",
      "    \"metadata\": {\n",
      "        \"timestamp\": 1650489866,\n",
      "        \"num_cryptocurrencies\": 3106,\n",
      "        \"error\": null\n",
      "    }\n",
      "}\n"
     ]
    }
   ],
   "source": [
    "# Using the Python requests library, make an API call to access the current price of BTC\n",
    "btc_response = requests.get(btc_url).json()\n",
    "\n",
    "# Use the json.dumps function to review the response data from the API call\n",
    "# Use the indent and sort_keys parameters to make the response object readable\n",
    "print(json.dumps(btc_response, indent = 4))\n"
   ]
  },
  {
   "cell_type": "code",
   "execution_count": 9,
   "metadata": {},
   "outputs": [
    {
     "name": "stdout",
     "output_type": "stream",
     "text": [
      "{\n",
      "    \"data\": {\n",
      "        \"1027\": {\n",
      "            \"circulating_supply\": 120460234,\n",
      "            \"id\": 1027,\n",
      "            \"last_updated\": 1650489874,\n",
      "            \"max_supply\": 0,\n",
      "            \"name\": \"Ethereum\",\n",
      "            \"quotes\": {\n",
      "                \"USD\": {\n",
      "                    \"market_cap\": 371435574217,\n",
      "                    \"percent_change_1h\": 0.595781899830752,\n",
      "                    \"percent_change_24h\": -0.396672527444797,\n",
      "                    \"percent_change_7d\": 1.5134973384772,\n",
      "                    \"percentage_change_1h\": 0.595781899830752,\n",
      "                    \"percentage_change_24h\": -0.396672527444797,\n",
      "                    \"percentage_change_7d\": 1.5134973384772,\n",
      "                    \"price\": 3084.19,\n",
      "                    \"volume_24h\": 15090500844\n",
      "                }\n",
      "            },\n",
      "            \"rank\": 2,\n",
      "            \"symbol\": \"ETH\",\n",
      "            \"total_supply\": 120460234,\n",
      "            \"website_slug\": \"ethereum\"\n",
      "        }\n",
      "    },\n",
      "    \"metadata\": {\n",
      "        \"error\": null,\n",
      "        \"num_cryptocurrencies\": 3106,\n",
      "        \"timestamp\": 1650489874\n",
      "    }\n",
      "}\n"
     ]
    }
   ],
   "source": [
    "# Using the Python requests library, make an API call to access the current price ETH\n",
    "eth_response = requests.get(eth_url).json()\n",
    "\n",
    "# Use the json.dumps function to review the response data from the API call\n",
    "# Use the indent and sort_keys parameters to make the response object readable\n",
    "print(json.dumps(eth_response, indent = 4, sort_keys = True))\n"
   ]
  },
  {
   "cell_type": "markdown",
   "metadata": {},
   "source": [
    "#### Step 3: Navigate the JSON response object to access the current price of each coin, and store each in a variable."
   ]
  },
  {
   "cell_type": "code",
   "execution_count": 15,
   "metadata": {},
   "outputs": [
    {
     "data": {
      "text/plain": [
       "41447.0"
      ]
     },
     "execution_count": 15,
     "metadata": {},
     "output_type": "execute_result"
    }
   ],
   "source": [
    "# Navigate the BTC response object to access the current price of BTC\n",
    "btc_price = btc_response['data']['1']['quotes']['USD']['price']\n",
    "\n",
    "# Print the current price of BTC\n",
    "# YOUR CODE HERE\n",
    "btc_price"
   ]
  },
  {
   "cell_type": "code",
   "execution_count": 16,
   "metadata": {},
   "outputs": [
    {
     "data": {
      "text/plain": [
       "3084.19"
      ]
     },
     "execution_count": 16,
     "metadata": {},
     "output_type": "execute_result"
    }
   ],
   "source": [
    "# Navigate the BTC response object to access the current price of ETH\n",
    "eth_price = eth_response['data']['1027']['quotes']['USD']['price']\n",
    "\n",
    "# Print the current price of ETH\n",
    "eth_price\n"
   ]
  },
  {
   "cell_type": "markdown",
   "metadata": {},
   "source": [
    "### Step 4: Calculate the value, in US dollars, of the current amount of each cryptocurrency and of the entire cryptocurrency wallet."
   ]
  },
  {
   "cell_type": "code",
   "execution_count": 17,
   "metadata": {},
   "outputs": [
    {
     "data": {
      "text/plain": [
       "49736.4"
      ]
     },
     "execution_count": 17,
     "metadata": {},
     "output_type": "execute_result"
    }
   ],
   "source": [
    "# Compute the current value of the BTC holding \n",
    "btc_value = btc_coins * btc_price\n",
    "\n",
    "# Print current value of your holding in BTC\n",
    "btc_value\n"
   ]
  },
  {
   "cell_type": "code",
   "execution_count": 18,
   "metadata": {},
   "outputs": [
    {
     "data": {
      "text/plain": [
       "16346.207"
      ]
     },
     "execution_count": 18,
     "metadata": {},
     "output_type": "execute_result"
    }
   ],
   "source": [
    "# Compute the current value of the ETH holding \n",
    "eth_value = eth_coins * eth_price\n",
    "\n",
    "# Print current value of your holding in ETH\n",
    "eth_value\n"
   ]
  },
  {
   "cell_type": "code",
   "execution_count": 19,
   "metadata": {},
   "outputs": [
    {
     "data": {
      "text/plain": [
       "66082.607"
      ]
     },
     "execution_count": 19,
     "metadata": {},
     "output_type": "execute_result"
    }
   ],
   "source": [
    "# Compute the total value of the cryptocurrency wallet\n",
    "# Add the value of the BTC holding to the value of the ETH holding\n",
    "total_crypto_wallet = btc_value + eth_value\n",
    "\n",
    "# Print current cryptocurrency wallet balance\n",
    "total_crypto_wallet\n"
   ]
  },
  {
   "cell_type": "markdown",
   "metadata": {},
   "source": [
    "### Evaluate the Stock and Bond Holdings by Using the Alpaca SDK\n",
    "\n",
    "In this section, you’ll determine the current value of a member’s stock and bond holdings. You’ll make an API call to Alpaca via the Alpaca SDK to get the current closing prices of the SPDR S&P 500 ETF Trust (ticker: SPY) and of the iShares Core US Aggregate Bond ETF (ticker: AGG). For the prototype, assume that the member holds 110 shares of SPY, which represents the stock portion of their portfolio, and 200 shares of AGG, which represents the bond portion. To do all this, complete the following steps:\n",
    "\n",
    "1. In the `Starter_Code` folder, create an environment file (`.env`) to store the values of your Alpaca API key and Alpaca secret key.\n",
    "\n",
    "2. Set the variables for the Alpaca API and secret keys. Using the Alpaca SDK, create the Alpaca `tradeapi.REST` object. In this object, include the parameters for the Alpaca API key, the secret key, and the version number.\n",
    "\n",
    "3. Set the following parameters for the Alpaca API call:\n",
    "\n",
    "    - `tickers`: Use the tickers for the member’s stock and bond holdings.\n",
    "\n",
    "    - `timeframe`: Use a time frame of one day.\n",
    "\n",
    "    - `start_date` and `end_date`: Use the same date for these parameters, and format them with the date of the previous weekday (or `2020-08-07`). This is because you want the one closing price for the most-recent trading day.\n",
    "\n",
    "4. Get the current closing prices for `SPY` and `AGG` by using the Alpaca `get_bars` function. Format the response as a Pandas DataFrame by including the `df` property at the end of the `get_bars` function.\n",
    "\n",
    "5. Navigating the Alpaca response DataFrame, select the `SPY` and `AGG` closing prices, and store them as variables.\n",
    "\n",
    "6. Calculate the value, in US dollars, of the current amount of shares in each of the stock and bond portions of the portfolio, and print the results.\n"
   ]
  },
  {
   "cell_type": "markdown",
   "metadata": {},
   "source": [
    "#### Review the total number of shares held in both (SPY) and (AGG)."
   ]
  },
  {
   "cell_type": "code",
   "execution_count": 20,
   "metadata": {},
   "outputs": [],
   "source": [
    "# Current amount of shares held in both the stock (SPY) and bond (AGG) portion of the portfolio.\n",
    "spy_shares = 110\n",
    "agg_shares = 200\n"
   ]
  },
  {
   "cell_type": "markdown",
   "metadata": {},
   "source": [
    "#### Step 1: In the `Starter_Code` folder, create an environment file (`.env`) to store the values of your Alpaca API key and Alpaca secret key."
   ]
  },
  {
   "cell_type": "markdown",
   "metadata": {},
   "source": [
    "#### Step 2: Set the variables for the Alpaca API and secret keys. Using the Alpaca SDK, create the Alpaca `tradeapi.REST` object. In this object, include the parameters for the Alpaca API key, the secret key, and the version number."
   ]
  },
  {
   "cell_type": "code",
   "execution_count": 23,
   "metadata": {},
   "outputs": [],
   "source": [
    "# Set the variables for the Alpaca API and secret keys\n",
    "alpaca_api_key = os.getenv('ALPACA_API_KEY')\n",
    "alpaca_secret_key = os.getenv('ALPACA_SECRET_KEY')\n",
    "\n",
    "# Create the Alpaca tradeapi.REST object\n",
    "alpaca = tradeapi.REST(\n",
    "    alpaca_api_key,\n",
    "    alpaca_secret_key,\n",
    "    api_version = 'v2'\n",
    ")\n"
   ]
  },
  {
   "cell_type": "markdown",
   "metadata": {},
   "source": [
    "#### Step 3: Set the following parameters for the Alpaca API call:\n",
    "\n",
    "- `tickers`: Use the tickers for the member’s stock and bond holdings.\n",
    "\n",
    "- `timeframe`: Use a time frame of one day.\n",
    "\n",
    "- `start_date` and `end_date`: Use the same date for these parameters, and format them with the date of the previous weekday (or `2020-08-07`). This is because you want the one closing price for the most-recent trading day.\n"
   ]
  },
  {
   "cell_type": "code",
   "execution_count": 26,
   "metadata": {},
   "outputs": [],
   "source": [
    "# Set the tickers for both the bond and stock portion of the portfolio\n",
    "tickers = ['AGG', 'SPY']\n",
    "\n",
    "# Set timeframe to 1Day\n",
    "timeframe = '1Day'\n",
    "\n",
    "# Format current date as ISO format\n",
    "# Set both the start and end date at the date of your prior weekday \n",
    "# This will give you the closing price of the previous trading day\n",
    "# Alternatively you can use a start and end date of 2020-08-07\n",
    "today = pd.Timestamp(\"2022-04-19\", tz = \"America/New_York\").isoformat()\n"
   ]
  },
  {
   "cell_type": "markdown",
   "metadata": {},
   "source": [
    "#### Step 4: Get the current closing prices for `SPY` and `AGG` by using the Alpaca `get_bars` function. Format the response as a Pandas DataFrame by including the `df` property at the end of the `get_bars` function."
   ]
  },
  {
   "cell_type": "code",
   "execution_count": 37,
   "metadata": {},
   "outputs": [
    {
     "data": {
      "text/html": [
       "<div>\n",
       "<style scoped>\n",
       "    .dataframe tbody tr th:only-of-type {\n",
       "        vertical-align: middle;\n",
       "    }\n",
       "\n",
       "    .dataframe tbody tr th {\n",
       "        vertical-align: top;\n",
       "    }\n",
       "\n",
       "    .dataframe thead tr th {\n",
       "        text-align: left;\n",
       "    }\n",
       "\n",
       "    .dataframe thead tr:last-of-type th {\n",
       "        text-align: right;\n",
       "    }\n",
       "</style>\n",
       "<table border=\"1\" class=\"dataframe\">\n",
       "  <thead>\n",
       "    <tr>\n",
       "      <th></th>\n",
       "      <th colspan=\"7\" halign=\"left\">AGG</th>\n",
       "      <th colspan=\"7\" halign=\"left\">SPY</th>\n",
       "    </tr>\n",
       "    <tr>\n",
       "      <th></th>\n",
       "      <th>open</th>\n",
       "      <th>high</th>\n",
       "      <th>low</th>\n",
       "      <th>close</th>\n",
       "      <th>volume</th>\n",
       "      <th>trade_count</th>\n",
       "      <th>vwap</th>\n",
       "      <th>open</th>\n",
       "      <th>high</th>\n",
       "      <th>low</th>\n",
       "      <th>close</th>\n",
       "      <th>volume</th>\n",
       "      <th>trade_count</th>\n",
       "      <th>vwap</th>\n",
       "    </tr>\n",
       "    <tr>\n",
       "      <th>timestamp</th>\n",
       "      <th></th>\n",
       "      <th></th>\n",
       "      <th></th>\n",
       "      <th></th>\n",
       "      <th></th>\n",
       "      <th></th>\n",
       "      <th></th>\n",
       "      <th></th>\n",
       "      <th></th>\n",
       "      <th></th>\n",
       "      <th></th>\n",
       "      <th></th>\n",
       "      <th></th>\n",
       "      <th></th>\n",
       "    </tr>\n",
       "  </thead>\n",
       "  <tbody>\n",
       "    <tr>\n",
       "      <th>2022-04-19 04:00:00+00:00</th>\n",
       "      <td>103.26</td>\n",
       "      <td>103.4264</td>\n",
       "      <td>102.974</td>\n",
       "      <td>103.02</td>\n",
       "      <td>7845969</td>\n",
       "      <td>32656</td>\n",
       "      <td>103.193615</td>\n",
       "      <td>437.87</td>\n",
       "      <td>445.8</td>\n",
       "      <td>437.68</td>\n",
       "      <td>445.04</td>\n",
       "      <td>77678099</td>\n",
       "      <td>597840</td>\n",
       "      <td>443.072191</td>\n",
       "    </tr>\n",
       "  </tbody>\n",
       "</table>\n",
       "</div>"
      ],
      "text/plain": [
       "                              AGG                                      \\\n",
       "                             open      high      low   close   volume   \n",
       "timestamp                                                               \n",
       "2022-04-19 04:00:00+00:00  103.26  103.4264  102.974  103.02  7845969   \n",
       "\n",
       "                                                      SPY                 \\\n",
       "                          trade_count        vwap    open   high     low   \n",
       "timestamp                                                                  \n",
       "2022-04-19 04:00:00+00:00       32656  103.193615  437.87  445.8  437.68   \n",
       "\n",
       "                                                                     \n",
       "                            close    volume trade_count        vwap  \n",
       "timestamp                                                            \n",
       "2022-04-19 04:00:00+00:00  445.04  77678099      597840  443.072191  "
      ]
     },
     "execution_count": 37,
     "metadata": {},
     "output_type": "execute_result"
    }
   ],
   "source": [
    "# Use the Alpaca get_bars function to get current closing prices the portfolio\n",
    "# Be sure to set the `df` property after the function to format the response object as a DataFrame\n",
    "prices_df = alpaca.get_bars(\n",
    "    tickers,\n",
    "    timeframe,\n",
    "    start = today,\n",
    "    end = today\n",
    ").df\n",
    "\n",
    "# Reorganize the DataFrame\n",
    "# Separate ticker data\n",
    "AGG = prices_df[prices_df['symbol'] == 'AGG'].drop('symbol', axis = 1)\n",
    "SPY = prices_df[prices_df['symbol'] == 'SPY'].drop('symbol', axis = 1)\n",
    "\n",
    "# Concatenate the ticker DataFrames\n",
    "prices_df = pd.concat([AGG, SPY], axis = 1, keys = ['AGG', 'SPY'])\n",
    "\n",
    "# Review the first 5 rows of the Alpaca DataFrame\n",
    "prices_df\n"
   ]
  },
  {
   "cell_type": "markdown",
   "metadata": {},
   "source": [
    "#### Step 5: Navigating the Alpaca response DataFrame, select the `SPY` and `AGG` closing prices, and store them as variables."
   ]
  },
  {
   "cell_type": "code",
   "execution_count": 29,
   "metadata": {},
   "outputs": [
    {
     "data": {
      "text/plain": [
       "103.02"
      ]
     },
     "execution_count": 29,
     "metadata": {},
     "output_type": "execute_result"
    }
   ],
   "source": [
    "# Access the closing price for AGG from the Alpaca DataFrame\n",
    "# Converting the value to a floating point number\n",
    "agg_close_price = prices_df['AGG']['close'][0]\n",
    "\n",
    "# Print the AGG closing price\n",
    "# YOUR CODE HERE\n",
    "agg_close_price"
   ]
  },
  {
   "cell_type": "code",
   "execution_count": 30,
   "metadata": {},
   "outputs": [
    {
     "data": {
      "text/plain": [
       "445.04"
      ]
     },
     "execution_count": 30,
     "metadata": {},
     "output_type": "execute_result"
    }
   ],
   "source": [
    "# Access the closing price for SPY from the Alpaca DataFrame\n",
    "# Converting the value to a floating point number\n",
    "spy_close_price = prices_df['SPY']['close'][0]\n",
    "\n",
    "# Print the SPY closing price\n",
    "spy_close_price\n"
   ]
  },
  {
   "cell_type": "markdown",
   "metadata": {},
   "source": [
    "#### Step 6: Calculate the value, in US dollars, of the current amount of shares in each of the stock and bond portions of the portfolio, and print the results."
   ]
  },
  {
   "cell_type": "code",
   "execution_count": 31,
   "metadata": {},
   "outputs": [
    {
     "data": {
      "text/plain": [
       "20604.0"
      ]
     },
     "execution_count": 31,
     "metadata": {},
     "output_type": "execute_result"
    }
   ],
   "source": [
    "# Calculate the current value of the bond portion of the portfolio\n",
    "agg_value = agg_shares * agg_close_price\n",
    "\n",
    "# Print the current value of the bond portfolio\n",
    "agg_value\n"
   ]
  },
  {
   "cell_type": "code",
   "execution_count": 33,
   "metadata": {},
   "outputs": [
    {
     "data": {
      "text/plain": [
       "48954.4"
      ]
     },
     "execution_count": 33,
     "metadata": {},
     "output_type": "execute_result"
    }
   ],
   "source": [
    "# Calculate the current value of the stock portion of the portfolio\n",
    "spy_value = spy_shares * spy_close_price\n",
    "\n",
    "# Print the current value of the stock portfolio\n",
    "spy_value\n"
   ]
  },
  {
   "cell_type": "code",
   "execution_count": 34,
   "metadata": {},
   "outputs": [
    {
     "data": {
      "text/plain": [
       "69558.4"
      ]
     },
     "execution_count": 34,
     "metadata": {},
     "output_type": "execute_result"
    }
   ],
   "source": [
    "# Calculate the total value of the stock and bond portion of the portfolio\n",
    "total_stocks_bonds = spy_value + agg_value\n",
    "\n",
    "# Print the current balance of the stock and bond portion of the portfolio\n",
    "total_stocks_bonds\n"
   ]
  },
  {
   "cell_type": "code",
   "execution_count": 35,
   "metadata": {},
   "outputs": [
    {
     "data": {
      "text/plain": [
       "135641.00699999998"
      ]
     },
     "execution_count": 35,
     "metadata": {},
     "output_type": "execute_result"
    }
   ],
   "source": [
    "# Calculate the total value of the member's entire savings portfolio\n",
    "# Add the value of the cryptocurrency walled to the value of the total stocks and bonds\n",
    "total_portfolio = total_crypto_wallet + total_stocks_bonds\n",
    "\n",
    "# Print current cryptocurrency wallet balance\n",
    "total_portfolio\n"
   ]
  },
  {
   "cell_type": "markdown",
   "metadata": {},
   "source": [
    "### Evaluate the Emergency Fund\n",
    "\n",
    "In this section, you’ll use the valuations for the cryptocurrency wallet and for the stock and bond portions of the portfolio to determine if the credit union member has enough savings to build an emergency fund into their financial plan. To do this, complete the following steps:\n",
    "\n",
    "1. Create a Python list named `savings_data` that has two elements. The first element contains the total value of the cryptocurrency wallet. The second element contains the total value of the stock and bond portions of the portfolio.\n",
    "\n",
    "2. Use the `savings_data` list to create a Pandas DataFrame named `savings_df`, and then display this DataFrame. The function to create the DataFrame should take the following three parameters:\n",
    "\n",
    "    - `savings_data`: Use the list that you just created.\n",
    "\n",
    "    - `columns`: Set this parameter equal to a Python list with a single value called `amount`.\n",
    "\n",
    "    - `index`: Set this parameter equal to a Python list with the values of `crypto` and `stock/bond`.\n",
    "\n",
    "3. Use the `savings_df` DataFrame to plot a pie chart that visualizes the composition of the member’s portfolio. The y-axis of the pie chart uses `amount`. Be sure to add a title.\n",
    "\n",
    "4. Using Python, determine if the current portfolio has enough to create an emergency fund as part of the member’s financial plan. Ideally, an emergency fund should equal to three times the member’s monthly income. To do this, implement the following steps:\n",
    "\n",
    "    1. Create a variable named `emergency_fund_value`, and set it equal to three times the value of the member’s `monthly_income` of $12000. (You set this earlier in Part 1).\n",
    "\n",
    "    2. Create a series of three if statements to determine if the member’s total portfolio is large enough to fund the emergency portfolio:\n",
    "\n",
    "        1. If the total portfolio value is greater than the emergency fund value, display a message congratulating the member for having enough money in this fund.\n",
    "\n",
    "        2. Else if the total portfolio value is equal to the emergency fund value, display a message congratulating the member on reaching this important financial goal.\n",
    "\n",
    "        3. Else the total portfolio is less than the emergency fund value, so display a message showing how many dollars away the member is from reaching the goal. (Subtract the total portfolio value from the emergency fund value.)\n"
   ]
  },
  {
   "cell_type": "markdown",
   "metadata": {},
   "source": [
    "#### Step 1: Create a Python list named `savings_data` that has two elements. The first element contains the total value of the cryptocurrency wallet. The second element contains the total value of the stock and bond portions of the portfolio."
   ]
  },
  {
   "cell_type": "code",
   "execution_count": 38,
   "metadata": {},
   "outputs": [
    {
     "data": {
      "text/plain": [
       "[66082.607, 69558.4]"
      ]
     },
     "execution_count": 38,
     "metadata": {},
     "output_type": "execute_result"
    }
   ],
   "source": [
    "# Consolidate financial assets data into a Python list\n",
    "savings_data = [\n",
    "    total_crypto_wallet,\n",
    "    total_stocks_bonds\n",
    "]\n",
    "\n",
    "# Review the Python list savings_data\n",
    "savings_data\n",
    "    "
   ]
  },
  {
   "cell_type": "markdown",
   "metadata": {},
   "source": [
    "#### Step 2: Use the `savings_data` list to create a Pandas DataFrame named `savings_df`, and then display this DataFrame. The function to create the DataFrame should take the following three parameters:\n",
    "\n",
    "- `savings_data`: Use the list that you just created.\n",
    "\n",
    "- `columns`: Set this parameter equal to a Python list with a single value called `amount`.\n",
    "\n",
    "- `index`: Set this parameter equal to a Python list with the values of `crypto` and `stock/bond`.\n"
   ]
  },
  {
   "cell_type": "code",
   "execution_count": 39,
   "metadata": {},
   "outputs": [
    {
     "data": {
      "text/html": [
       "<div>\n",
       "<style scoped>\n",
       "    .dataframe tbody tr th:only-of-type {\n",
       "        vertical-align: middle;\n",
       "    }\n",
       "\n",
       "    .dataframe tbody tr th {\n",
       "        vertical-align: top;\n",
       "    }\n",
       "\n",
       "    .dataframe thead th {\n",
       "        text-align: right;\n",
       "    }\n",
       "</style>\n",
       "<table border=\"1\" class=\"dataframe\">\n",
       "  <thead>\n",
       "    <tr style=\"text-align: right;\">\n",
       "      <th></th>\n",
       "      <th>amounts</th>\n",
       "    </tr>\n",
       "  </thead>\n",
       "  <tbody>\n",
       "    <tr>\n",
       "      <th>crypto</th>\n",
       "      <td>66082.607</td>\n",
       "    </tr>\n",
       "    <tr>\n",
       "      <th>stocks/bonds</th>\n",
       "      <td>69558.400</td>\n",
       "    </tr>\n",
       "  </tbody>\n",
       "</table>\n",
       "</div>"
      ],
      "text/plain": [
       "                amounts\n",
       "crypto        66082.607\n",
       "stocks/bonds  69558.400"
      ]
     },
     "execution_count": 39,
     "metadata": {},
     "output_type": "execute_result"
    }
   ],
   "source": [
    "# Create a Pandas DataFrame called savings_df \n",
    "savings_df = pd.DataFrame(\n",
    "    savings_data,\n",
    "    columns = ['amounts'],\n",
    "    index = ['crypto' , 'stocks/bonds']\n",
    ")\n",
    "\n",
    "# Display the savings_df DataFrame\n",
    "savings_df\n"
   ]
  },
  {
   "cell_type": "markdown",
   "metadata": {},
   "source": [
    "#### Step 3: Use the `savings_df` DataFrame to plot a pie chart that visualizes the composition of the member’s portfolio. The y-axis of the pie chart uses `amount`. Be sure to add a title."
   ]
  },
  {
   "cell_type": "code",
   "execution_count": 41,
   "metadata": {},
   "outputs": [
    {
     "data": {
      "text/plain": [
       "<AxesSubplot:title={'center':'Composition of Savings Portfolio'}, ylabel='amounts'>"
      ]
     },
     "execution_count": 41,
     "metadata": {},
     "output_type": "execute_result"
    },
    {
     "data": {
      "image/png": "[encoded data removed]",
      "text/plain": [
       "<Figure size 432x288 with 1 Axes>"
      ]
     },
     "metadata": {},
     "output_type": "display_data"
    }
   ],
   "source": [
    "# Plot the total value of the member's portfolio (crypto and stock/bond) in a pie chart\n",
    "savings_df.plot.pie(y='amounts', title = 'Composition of Savings Portfolio')\n"
   ]
  },
  {
   "cell_type": "markdown",
   "metadata": {},
   "source": [
    "#### Step 4: Using Python, determine if the current portfolio has enough to create an emergency fund as part of the member’s financial plan. Ideally, an emergency fund should equal to three times the member’s monthly income. To do this, implement the following steps:\n",
    "\n",
    "Step 1. Create a variable named `emergency_fund_value`, and set it equal to three times the value of the member’s `monthly_income` of 12000. (You set this earlier in Part 1).\n",
    "\n",
    "Step 2. Create a series of three if statements to determine if the member’s total portfolio is large enough to fund the emergency portfolio:\n",
    "\n",
    "* If the total portfolio value is greater than the emergency fund value, display a message congratulating the member for having enough money in this fund.\n",
    "\n",
    "* Else if the total portfolio value is equal to the emergency fund value, display a message congratulating the member on reaching this important financial goal.\n",
    "\n",
    "* Else the total portfolio is less than the emergency fund value, so display a message showing how many dollars away the member is from reaching the goal. (Subtract the total portfolio value from the emergency fund value.)\n"
   ]
  },
  {
   "cell_type": "markdown",
   "metadata": {},
   "source": [
    "##### Step 4-1: Create a variable named `emergency_fund_value`, and set it equal to three times the value of the member’s `monthly_income` of 12000. (You set this earlier in Part 1)."
   ]
  },
  {
   "cell_type": "code",
   "execution_count": 42,
   "metadata": {},
   "outputs": [],
   "source": [
    "# Create a variable named emergency_fund_value\n",
    "emergency_fund_value = monthly_income * 3\n"
   ]
  },
  {
   "cell_type": "markdown",
   "metadata": {},
   "source": [
    "##### Step 4-2: Create a series of three if statements to determine if the member’s total portfolio is large enough to fund the emergency portfolio:\n",
    "\n",
    "* If the total portfolio value is greater than the emergency fund value, display a message congratulating the member for having enough money in this fund.\n",
    "\n",
    "* Else if the total portfolio value is equal to the emergency fund value, display a message congratulating the member on reaching this important financial goal.\n",
    "\n",
    "* Else the total portfolio is less than the emergency fund value, so display a message showing how many dollars away the member is from reaching the goal. (Subtract the total portfolio value from the emergency fund value.)"
   ]
  },
  {
   "cell_type": "code",
   "execution_count": null,
   "metadata": {},
   "outputs": [],
   "source": [
    "# Evaluate the possibility of creating an emergency fund with 3 conditions:\n",
    "if total_portfolio > emergency_fund_value:\n",
    "    print('Congratulations!')\n",
    "elif total_portfolio == emergency_fund_value:\n",
    "    print(\"You've reached your goal!\")\n",
    "else:\n",
    "    print(f'You are ${emergency_fund_value - total_portfolio} away from reaching your goal.')\n"
   ]
  },
  {
   "cell_type": "markdown",
   "metadata": {},
   "source": [
    "## Part 2: Create a Financial Planner for Retirement"
   ]
  },
  {
   "cell_type": "markdown",
   "metadata": {},
   "source": [
    "### Create the Monte Carlo Simulation\n",
    "\n",
    "In this section, you’ll use the MCForecastTools library to create a Monte Carlo simulation for the member’s savings portfolio. To do this, complete the following steps:\n",
    "\n",
    "1. Make an API call via the Alpaca SDK to get 3 years of historical closing prices for a traditional 60/40 portfolio split: 60% stocks (SPY) and 40% bonds (AGG).\n",
    "\n",
    "2. Run a Monte Carlo simulation of 500 samples and 30 years for the 60/40 portfolio, and then plot the results.The following image shows the overlay line plot resulting from a simulation with these characteristics. However, because a random number generator is used to run each live Monte Carlo simulation, your image will differ slightly from this exact image:\n",
    "\n",
    "![A screenshot depicts the resulting plot.](Images/5-4-monte-carlo-line-plot.png)\n",
    "\n",
    "3. Plot the probability distribution of the Monte Carlo simulation. Plot the probability distribution of the Monte Carlo simulation. The following image shows the histogram plot resulting from a simulation with these characteristics. However, because a random number generator is used to run each live Monte Carlo simulation, your image will differ slightly from this exact image:\n",
    "\n",
    "![A screenshot depicts the histogram plot.](Images/5-4-monte-carlo-histogram.png)\n",
    "\n",
    "4. Generate the summary statistics for the Monte Carlo simulation.\n",
    "\n"
   ]
  },
  {
   "cell_type": "markdown",
   "metadata": {},
   "source": [
    "#### Step 1: Make an API call via the Alpaca SDK to get 3 years of historical closing prices for a traditional 60/40 portfolio split: 60% stocks (SPY) and 40% bonds (AGG)."
   ]
  },
  {
   "cell_type": "code",
   "execution_count": 45,
   "metadata": {},
   "outputs": [],
   "source": [
    "# Set start and end dates of 3 years back from your current date\n",
    "# Alternatively, you can use an end date of 2020-08-07 and work 3 years back from that date \n",
    "start_date = pd.Timestamp('2019-04-26', tz='America/New_York').isoformat()\n",
    "end_date = pd.Timestamp('2022-04-26', tz = 'America/New_York').isoformat()\n",
    "\n",
    "# Set number of rows to 1000 to retrieve the maximum amount of rows\n",
    "limit_rows = 1000"
   ]
  },
  {
   "cell_type": "code",
   "execution_count": 48,
   "metadata": {},
   "outputs": [
    {
     "data": {
      "text/html": [
       "<div>\n",
       "<style scoped>\n",
       "    .dataframe tbody tr th:only-of-type {\n",
       "        vertical-align: middle;\n",
       "    }\n",
       "\n",
       "    .dataframe tbody tr th {\n",
       "        vertical-align: top;\n",
       "    }\n",
       "\n",
       "    .dataframe thead tr th {\n",
       "        text-align: left;\n",
       "    }\n",
       "\n",
       "    .dataframe thead tr:last-of-type th {\n",
       "        text-align: right;\n",
       "    }\n",
       "</style>\n",
       "<table border=\"1\" class=\"dataframe\">\n",
       "  <thead>\n",
       "    <tr>\n",
       "      <th></th>\n",
       "      <th colspan=\"7\" halign=\"left\">AGG</th>\n",
       "      <th colspan=\"7\" halign=\"left\">SPY</th>\n",
       "    </tr>\n",
       "    <tr>\n",
       "      <th></th>\n",
       "      <th>open</th>\n",
       "      <th>high</th>\n",
       "      <th>low</th>\n",
       "      <th>close</th>\n",
       "      <th>volume</th>\n",
       "      <th>trade_count</th>\n",
       "      <th>vwap</th>\n",
       "      <th>open</th>\n",
       "      <th>high</th>\n",
       "      <th>low</th>\n",
       "      <th>close</th>\n",
       "      <th>volume</th>\n",
       "      <th>trade_count</th>\n",
       "      <th>vwap</th>\n",
       "    </tr>\n",
       "    <tr>\n",
       "      <th>timestamp</th>\n",
       "      <th></th>\n",
       "      <th></th>\n",
       "      <th></th>\n",
       "      <th></th>\n",
       "      <th></th>\n",
       "      <th></th>\n",
       "      <th></th>\n",
       "      <th></th>\n",
       "      <th></th>\n",
       "      <th></th>\n",
       "      <th></th>\n",
       "      <th></th>\n",
       "      <th></th>\n",
       "      <th></th>\n",
       "    </tr>\n",
       "  </thead>\n",
       "  <tbody>\n",
       "    <tr>\n",
       "      <th>2019-04-26 04:00:00+00:00</th>\n",
       "      <td>108.74</td>\n",
       "      <td>108.7500</td>\n",
       "      <td>108.6600</td>\n",
       "      <td>108.71</td>\n",
       "      <td>2300074</td>\n",
       "      <td>8664</td>\n",
       "      <td>108.705413</td>\n",
       "      <td>292.12</td>\n",
       "      <td>293.4900</td>\n",
       "      <td>291.2401</td>\n",
       "      <td>293.41</td>\n",
       "      <td>51449173</td>\n",
       "      <td>220594</td>\n",
       "      <td>292.642502</td>\n",
       "    </tr>\n",
       "    <tr>\n",
       "      <th>2019-04-29 04:00:00+00:00</th>\n",
       "      <td>108.56</td>\n",
       "      <td>108.6200</td>\n",
       "      <td>108.4900</td>\n",
       "      <td>108.52</td>\n",
       "      <td>2782634</td>\n",
       "      <td>8977</td>\n",
       "      <td>108.539174</td>\n",
       "      <td>293.53</td>\n",
       "      <td>294.4500</td>\n",
       "      <td>293.4100</td>\n",
       "      <td>293.87</td>\n",
       "      <td>61675682</td>\n",
       "      <td>186857</td>\n",
       "      <td>293.871519</td>\n",
       "    </tr>\n",
       "    <tr>\n",
       "      <th>2019-04-30 04:00:00+00:00</th>\n",
       "      <td>108.56</td>\n",
       "      <td>108.6800</td>\n",
       "      <td>108.5135</td>\n",
       "      <td>108.59</td>\n",
       "      <td>7491505</td>\n",
       "      <td>17892</td>\n",
       "      <td>108.620462</td>\n",
       "      <td>293.52</td>\n",
       "      <td>294.3400</td>\n",
       "      <td>291.9200</td>\n",
       "      <td>294.02</td>\n",
       "      <td>81411933</td>\n",
       "      <td>254912</td>\n",
       "      <td>293.551590</td>\n",
       "    </tr>\n",
       "    <tr>\n",
       "      <th>2019-05-01 04:00:00+00:00</th>\n",
       "      <td>108.47</td>\n",
       "      <td>108.7600</td>\n",
       "      <td>108.3200</td>\n",
       "      <td>108.40</td>\n",
       "      <td>6387911</td>\n",
       "      <td>23490</td>\n",
       "      <td>108.455634</td>\n",
       "      <td>294.76</td>\n",
       "      <td>294.9500</td>\n",
       "      <td>291.8000</td>\n",
       "      <td>291.81</td>\n",
       "      <td>71921870</td>\n",
       "      <td>337374</td>\n",
       "      <td>293.457138</td>\n",
       "    </tr>\n",
       "    <tr>\n",
       "      <th>2019-05-02 04:00:00+00:00</th>\n",
       "      <td>108.30</td>\n",
       "      <td>108.3300</td>\n",
       "      <td>108.1000</td>\n",
       "      <td>108.16</td>\n",
       "      <td>3379510</td>\n",
       "      <td>10083</td>\n",
       "      <td>108.172602</td>\n",
       "      <td>291.68</td>\n",
       "      <td>292.7000</td>\n",
       "      <td>289.5200</td>\n",
       "      <td>291.18</td>\n",
       "      <td>65058183</td>\n",
       "      <td>342564</td>\n",
       "      <td>291.101680</td>\n",
       "    </tr>\n",
       "    <tr>\n",
       "      <th>...</th>\n",
       "      <td>...</td>\n",
       "      <td>...</td>\n",
       "      <td>...</td>\n",
       "      <td>...</td>\n",
       "      <td>...</td>\n",
       "      <td>...</td>\n",
       "      <td>...</td>\n",
       "      <td>...</td>\n",
       "      <td>...</td>\n",
       "      <td>...</td>\n",
       "      <td>...</td>\n",
       "      <td>...</td>\n",
       "      <td>...</td>\n",
       "      <td>...</td>\n",
       "    </tr>\n",
       "    <tr>\n",
       "      <th>2022-04-20 04:00:00+00:00</th>\n",
       "      <td>103.36</td>\n",
       "      <td>103.7356</td>\n",
       "      <td>103.3000</td>\n",
       "      <td>103.61</td>\n",
       "      <td>8434303</td>\n",
       "      <td>32866</td>\n",
       "      <td>103.528935</td>\n",
       "      <td>446.95</td>\n",
       "      <td>447.5700</td>\n",
       "      <td>443.4800</td>\n",
       "      <td>444.71</td>\n",
       "      <td>64737457</td>\n",
       "      <td>591762</td>\n",
       "      <td>445.610168</td>\n",
       "    </tr>\n",
       "    <tr>\n",
       "      <th>2022-04-21 04:00:00+00:00</th>\n",
       "      <td>103.44</td>\n",
       "      <td>103.4700</td>\n",
       "      <td>102.7900</td>\n",
       "      <td>103.04</td>\n",
       "      <td>11393860</td>\n",
       "      <td>35595</td>\n",
       "      <td>103.047589</td>\n",
       "      <td>448.58</td>\n",
       "      <td>450.0100</td>\n",
       "      <td>437.1000</td>\n",
       "      <td>438.06</td>\n",
       "      <td>85097110</td>\n",
       "      <td>719682</td>\n",
       "      <td>442.772969</td>\n",
       "    </tr>\n",
       "    <tr>\n",
       "      <th>2022-04-22 04:00:00+00:00</th>\n",
       "      <td>102.73</td>\n",
       "      <td>103.1800</td>\n",
       "      <td>102.6700</td>\n",
       "      <td>102.94</td>\n",
       "      <td>9152665</td>\n",
       "      <td>31498</td>\n",
       "      <td>102.925863</td>\n",
       "      <td>436.94</td>\n",
       "      <td>438.0825</td>\n",
       "      <td>425.4400</td>\n",
       "      <td>426.04</td>\n",
       "      <td>132156403</td>\n",
       "      <td>972064</td>\n",
       "      <td>429.813156</td>\n",
       "    </tr>\n",
       "    <tr>\n",
       "      <th>2022-04-25 04:00:00+00:00</th>\n",
       "      <td>103.47</td>\n",
       "      <td>103.9300</td>\n",
       "      <td>103.4700</td>\n",
       "      <td>103.63</td>\n",
       "      <td>8768318</td>\n",
       "      <td>31373</td>\n",
       "      <td>103.691097</td>\n",
       "      <td>423.70</td>\n",
       "      <td>428.6900</td>\n",
       "      <td>418.8400</td>\n",
       "      <td>428.51</td>\n",
       "      <td>119103454</td>\n",
       "      <td>1139830</td>\n",
       "      <td>423.952513</td>\n",
       "    </tr>\n",
       "    <tr>\n",
       "      <th>2022-04-26 04:00:00+00:00</th>\n",
       "      <td>104.13</td>\n",
       "      <td>104.1300</td>\n",
       "      <td>103.8000</td>\n",
       "      <td>103.95</td>\n",
       "      <td>8533802</td>\n",
       "      <td>30915</td>\n",
       "      <td>103.960003</td>\n",
       "      <td>425.92</td>\n",
       "      <td>426.0400</td>\n",
       "      <td>416.0700</td>\n",
       "      <td>416.10</td>\n",
       "      <td>101074178</td>\n",
       "      <td>1001090</td>\n",
       "      <td>420.127020</td>\n",
       "    </tr>\n",
       "  </tbody>\n",
       "</table>\n",
       "<p>757 rows × 14 columns</p>\n",
       "</div>"
      ],
      "text/plain": [
       "                              AGG                                        \\\n",
       "                             open      high       low   close    volume   \n",
       "timestamp                                                                 \n",
       "2019-04-26 04:00:00+00:00  108.74  108.7500  108.6600  108.71   2300074   \n",
       "2019-04-29 04:00:00+00:00  108.56  108.6200  108.4900  108.52   2782634   \n",
       "2019-04-30 04:00:00+00:00  108.56  108.6800  108.5135  108.59   7491505   \n",
       "2019-05-01 04:00:00+00:00  108.47  108.7600  108.3200  108.40   6387911   \n",
       "2019-05-02 04:00:00+00:00  108.30  108.3300  108.1000  108.16   3379510   \n",
       "...                           ...       ...       ...     ...       ...   \n",
       "2022-04-20 04:00:00+00:00  103.36  103.7356  103.3000  103.61   8434303   \n",
       "2022-04-21 04:00:00+00:00  103.44  103.4700  102.7900  103.04  11393860   \n",
       "2022-04-22 04:00:00+00:00  102.73  103.1800  102.6700  102.94   9152665   \n",
       "2022-04-25 04:00:00+00:00  103.47  103.9300  103.4700  103.63   8768318   \n",
       "2022-04-26 04:00:00+00:00  104.13  104.1300  103.8000  103.95   8533802   \n",
       "\n",
       "                                                      SPY                      \\\n",
       "                          trade_count        vwap    open      high       low   \n",
       "timestamp                                                                       \n",
       "2019-04-26 04:00:00+00:00        8664  108.705413  292.12  293.4900  291.2401   \n",
       "2019-04-29 04:00:00+00:00        8977  108.539174  293.53  294.4500  293.4100   \n",
       "2019-04-30 04:00:00+00:00       17892  108.620462  293.52  294.3400  291.9200   \n",
       "2019-05-01 04:00:00+00:00       23490  108.455634  294.76  294.9500  291.8000   \n",
       "2019-05-02 04:00:00+00:00       10083  108.172602  291.68  292.7000  289.5200   \n",
       "...                               ...         ...     ...       ...       ...   \n",
       "2022-04-20 04:00:00+00:00       32866  103.528935  446.95  447.5700  443.4800   \n",
       "2022-04-21 04:00:00+00:00       35595  103.047589  448.58  450.0100  437.1000   \n",
       "2022-04-22 04:00:00+00:00       31498  102.925863  436.94  438.0825  425.4400   \n",
       "2022-04-25 04:00:00+00:00       31373  103.691097  423.70  428.6900  418.8400   \n",
       "2022-04-26 04:00:00+00:00       30915  103.960003  425.92  426.0400  416.0700   \n",
       "\n",
       "                                                                      \n",
       "                            close     volume trade_count        vwap  \n",
       "timestamp                                                             \n",
       "2019-04-26 04:00:00+00:00  293.41   51449173      220594  292.642502  \n",
       "2019-04-29 04:00:00+00:00  293.87   61675682      186857  293.871519  \n",
       "2019-04-30 04:00:00+00:00  294.02   81411933      254912  293.551590  \n",
       "2019-05-01 04:00:00+00:00  291.81   71921870      337374  293.457138  \n",
       "2019-05-02 04:00:00+00:00  291.18   65058183      342564  291.101680  \n",
       "...                           ...        ...         ...         ...  \n",
       "2022-04-20 04:00:00+00:00  444.71   64737457      591762  445.610168  \n",
       "2022-04-21 04:00:00+00:00  438.06   85097110      719682  442.772969  \n",
       "2022-04-22 04:00:00+00:00  426.04  132156403      972064  429.813156  \n",
       "2022-04-25 04:00:00+00:00  428.51  119103454     1139830  423.952513  \n",
       "2022-04-26 04:00:00+00:00  416.10  101074178     1001090  420.127020  \n",
       "\n",
       "[757 rows x 14 columns]"
      ]
     },
     "execution_count": 48,
     "metadata": {},
     "output_type": "execute_result"
    }
   ],
   "source": [
    "# Use the Alpaca get_bars function to make the API call to get the 3 years worth of pricing data\n",
    "# The tickers and timeframe parameters should have been set in Part 1 of this activity \n",
    "# The start and end dates should be updated with the information set above\n",
    "# Remember to add the df property to the end of the call so the response is returned as a DataFrame\n",
    "prices_df = alpaca.get_bars(\n",
    "    tickers,\n",
    "    timeframe,\n",
    "    start=start_date,\n",
    "    end=end_date\n",
    ").df\n",
    "\n",
    "# Reorganize the DataFrame\n",
    "# Separate ticker data\n",
    "AGG = prices_df[prices_df['symbol'] == 'AGG'].drop('symbol', axis = 1)\n",
    "SPY = prices_df[prices_df['symbol'] == 'SPY'].drop('symbol', axis = 1)\n",
    "\n",
    "# Concatenate the ticker DataFrames\n",
    "prices_df = pd.concat([AGG, SPY], axis = 1, keys = ['AGG', 'SPY'])\n",
    "\n",
    "# Review the first 5 rows of the Alpaca DataFrame\n",
    "prices_df\n"
   ]
  },
  {
   "cell_type": "markdown",
   "metadata": {},
   "source": [
    "#### Step 2: Run a Monte Carlo simulation of 500 samples and 30 years for the 60/40 portfolio, and then plot the results."
   ]
  },
  {
   "cell_type": "code",
   "execution_count": 49,
   "metadata": {},
   "outputs": [
    {
     "data": {
      "text/html": [
       "<div>\n",
       "<style scoped>\n",
       "    .dataframe tbody tr th:only-of-type {\n",
       "        vertical-align: middle;\n",
       "    }\n",
       "\n",
       "    .dataframe tbody tr th {\n",
       "        vertical-align: top;\n",
       "    }\n",
       "\n",
       "    .dataframe thead tr th {\n",
       "        text-align: left;\n",
       "    }\n",
       "\n",
       "    .dataframe thead tr:last-of-type th {\n",
       "        text-align: right;\n",
       "    }\n",
       "</style>\n",
       "<table border=\"1\" class=\"dataframe\">\n",
       "  <thead>\n",
       "    <tr>\n",
       "      <th></th>\n",
       "      <th colspan=\"8\" halign=\"left\">AGG</th>\n",
       "      <th colspan=\"8\" halign=\"left\">SPY</th>\n",
       "    </tr>\n",
       "    <tr>\n",
       "      <th></th>\n",
       "      <th>open</th>\n",
       "      <th>high</th>\n",
       "      <th>low</th>\n",
       "      <th>close</th>\n",
       "      <th>volume</th>\n",
       "      <th>trade_count</th>\n",
       "      <th>vwap</th>\n",
       "      <th>daily_return</th>\n",
       "      <th>open</th>\n",
       "      <th>high</th>\n",
       "      <th>low</th>\n",
       "      <th>close</th>\n",
       "      <th>volume</th>\n",
       "      <th>trade_count</th>\n",
       "      <th>vwap</th>\n",
       "      <th>daily_return</th>\n",
       "    </tr>\n",
       "    <tr>\n",
       "      <th>timestamp</th>\n",
       "      <th></th>\n",
       "      <th></th>\n",
       "      <th></th>\n",
       "      <th></th>\n",
       "      <th></th>\n",
       "      <th></th>\n",
       "      <th></th>\n",
       "      <th></th>\n",
       "      <th></th>\n",
       "      <th></th>\n",
       "      <th></th>\n",
       "      <th></th>\n",
       "      <th></th>\n",
       "      <th></th>\n",
       "      <th></th>\n",
       "      <th></th>\n",
       "    </tr>\n",
       "  </thead>\n",
       "  <tbody>\n",
       "    <tr>\n",
       "      <th>2019-04-26 04:00:00+00:00</th>\n",
       "      <td>108.74</td>\n",
       "      <td>108.7500</td>\n",
       "      <td>108.6600</td>\n",
       "      <td>108.71</td>\n",
       "      <td>2300074</td>\n",
       "      <td>8664</td>\n",
       "      <td>108.705413</td>\n",
       "      <td>NaN</td>\n",
       "      <td>292.12</td>\n",
       "      <td>293.4900</td>\n",
       "      <td>291.2401</td>\n",
       "      <td>293.41</td>\n",
       "      <td>51449173</td>\n",
       "      <td>220594</td>\n",
       "      <td>292.642502</td>\n",
       "      <td>NaN</td>\n",
       "    </tr>\n",
       "    <tr>\n",
       "      <th>2019-04-29 04:00:00+00:00</th>\n",
       "      <td>108.56</td>\n",
       "      <td>108.6200</td>\n",
       "      <td>108.4900</td>\n",
       "      <td>108.52</td>\n",
       "      <td>2782634</td>\n",
       "      <td>8977</td>\n",
       "      <td>108.539174</td>\n",
       "      <td>-0.001748</td>\n",
       "      <td>293.53</td>\n",
       "      <td>294.4500</td>\n",
       "      <td>293.4100</td>\n",
       "      <td>293.87</td>\n",
       "      <td>61675682</td>\n",
       "      <td>186857</td>\n",
       "      <td>293.871519</td>\n",
       "      <td>0.001568</td>\n",
       "    </tr>\n",
       "    <tr>\n",
       "      <th>2019-04-30 04:00:00+00:00</th>\n",
       "      <td>108.56</td>\n",
       "      <td>108.6800</td>\n",
       "      <td>108.5135</td>\n",
       "      <td>108.59</td>\n",
       "      <td>7491505</td>\n",
       "      <td>17892</td>\n",
       "      <td>108.620462</td>\n",
       "      <td>0.000645</td>\n",
       "      <td>293.52</td>\n",
       "      <td>294.3400</td>\n",
       "      <td>291.9200</td>\n",
       "      <td>294.02</td>\n",
       "      <td>81411933</td>\n",
       "      <td>254912</td>\n",
       "      <td>293.551590</td>\n",
       "      <td>0.000510</td>\n",
       "    </tr>\n",
       "    <tr>\n",
       "      <th>2019-05-01 04:00:00+00:00</th>\n",
       "      <td>108.47</td>\n",
       "      <td>108.7600</td>\n",
       "      <td>108.3200</td>\n",
       "      <td>108.40</td>\n",
       "      <td>6387911</td>\n",
       "      <td>23490</td>\n",
       "      <td>108.455634</td>\n",
       "      <td>-0.001750</td>\n",
       "      <td>294.76</td>\n",
       "      <td>294.9500</td>\n",
       "      <td>291.8000</td>\n",
       "      <td>291.81</td>\n",
       "      <td>71921870</td>\n",
       "      <td>337374</td>\n",
       "      <td>293.457138</td>\n",
       "      <td>-0.007516</td>\n",
       "    </tr>\n",
       "    <tr>\n",
       "      <th>2019-05-02 04:00:00+00:00</th>\n",
       "      <td>108.30</td>\n",
       "      <td>108.3300</td>\n",
       "      <td>108.1000</td>\n",
       "      <td>108.16</td>\n",
       "      <td>3379510</td>\n",
       "      <td>10083</td>\n",
       "      <td>108.172602</td>\n",
       "      <td>-0.002214</td>\n",
       "      <td>291.68</td>\n",
       "      <td>292.7000</td>\n",
       "      <td>289.5200</td>\n",
       "      <td>291.18</td>\n",
       "      <td>65058183</td>\n",
       "      <td>342564</td>\n",
       "      <td>291.101680</td>\n",
       "      <td>-0.002159</td>\n",
       "    </tr>\n",
       "    <tr>\n",
       "      <th>...</th>\n",
       "      <td>...</td>\n",
       "      <td>...</td>\n",
       "      <td>...</td>\n",
       "      <td>...</td>\n",
       "      <td>...</td>\n",
       "      <td>...</td>\n",
       "      <td>...</td>\n",
       "      <td>...</td>\n",
       "      <td>...</td>\n",
       "      <td>...</td>\n",
       "      <td>...</td>\n",
       "      <td>...</td>\n",
       "      <td>...</td>\n",
       "      <td>...</td>\n",
       "      <td>...</td>\n",
       "      <td>...</td>\n",
       "    </tr>\n",
       "    <tr>\n",
       "      <th>2022-04-20 04:00:00+00:00</th>\n",
       "      <td>103.36</td>\n",
       "      <td>103.7356</td>\n",
       "      <td>103.3000</td>\n",
       "      <td>103.61</td>\n",
       "      <td>8434303</td>\n",
       "      <td>32866</td>\n",
       "      <td>103.528935</td>\n",
       "      <td>0.005727</td>\n",
       "      <td>446.95</td>\n",
       "      <td>447.5700</td>\n",
       "      <td>443.4800</td>\n",
       "      <td>444.71</td>\n",
       "      <td>64737457</td>\n",
       "      <td>591762</td>\n",
       "      <td>445.610168</td>\n",
       "      <td>-0.000742</td>\n",
       "    </tr>\n",
       "    <tr>\n",
       "      <th>2022-04-21 04:00:00+00:00</th>\n",
       "      <td>103.44</td>\n",
       "      <td>103.4700</td>\n",
       "      <td>102.7900</td>\n",
       "      <td>103.04</td>\n",
       "      <td>11393860</td>\n",
       "      <td>35595</td>\n",
       "      <td>103.047589</td>\n",
       "      <td>-0.005501</td>\n",
       "      <td>448.58</td>\n",
       "      <td>450.0100</td>\n",
       "      <td>437.1000</td>\n",
       "      <td>438.06</td>\n",
       "      <td>85097110</td>\n",
       "      <td>719682</td>\n",
       "      <td>442.772969</td>\n",
       "      <td>-0.014954</td>\n",
       "    </tr>\n",
       "    <tr>\n",
       "      <th>2022-04-22 04:00:00+00:00</th>\n",
       "      <td>102.73</td>\n",
       "      <td>103.1800</td>\n",
       "      <td>102.6700</td>\n",
       "      <td>102.94</td>\n",
       "      <td>9152665</td>\n",
       "      <td>31498</td>\n",
       "      <td>102.925863</td>\n",
       "      <td>-0.000970</td>\n",
       "      <td>436.94</td>\n",
       "      <td>438.0825</td>\n",
       "      <td>425.4400</td>\n",
       "      <td>426.04</td>\n",
       "      <td>132156403</td>\n",
       "      <td>972064</td>\n",
       "      <td>429.813156</td>\n",
       "      <td>-0.027439</td>\n",
       "    </tr>\n",
       "    <tr>\n",
       "      <th>2022-04-25 04:00:00+00:00</th>\n",
       "      <td>103.47</td>\n",
       "      <td>103.9300</td>\n",
       "      <td>103.4700</td>\n",
       "      <td>103.63</td>\n",
       "      <td>8768318</td>\n",
       "      <td>31373</td>\n",
       "      <td>103.691097</td>\n",
       "      <td>0.006703</td>\n",
       "      <td>423.70</td>\n",
       "      <td>428.6900</td>\n",
       "      <td>418.8400</td>\n",
       "      <td>428.51</td>\n",
       "      <td>119103454</td>\n",
       "      <td>1139830</td>\n",
       "      <td>423.952513</td>\n",
       "      <td>0.005798</td>\n",
       "    </tr>\n",
       "    <tr>\n",
       "      <th>2022-04-26 04:00:00+00:00</th>\n",
       "      <td>104.13</td>\n",
       "      <td>104.1300</td>\n",
       "      <td>103.8000</td>\n",
       "      <td>103.95</td>\n",
       "      <td>8533802</td>\n",
       "      <td>30915</td>\n",
       "      <td>103.960003</td>\n",
       "      <td>0.003088</td>\n",
       "      <td>425.92</td>\n",
       "      <td>426.0400</td>\n",
       "      <td>416.0700</td>\n",
       "      <td>416.10</td>\n",
       "      <td>101074178</td>\n",
       "      <td>1001090</td>\n",
       "      <td>420.127020</td>\n",
       "      <td>-0.028961</td>\n",
       "    </tr>\n",
       "  </tbody>\n",
       "</table>\n",
       "<p>757 rows × 16 columns</p>\n",
       "</div>"
      ],
      "text/plain": [
       "                              AGG                                        \\\n",
       "                             open      high       low   close    volume   \n",
       "timestamp                                                                 \n",
       "2019-04-26 04:00:00+00:00  108.74  108.7500  108.6600  108.71   2300074   \n",
       "2019-04-29 04:00:00+00:00  108.56  108.6200  108.4900  108.52   2782634   \n",
       "2019-04-30 04:00:00+00:00  108.56  108.6800  108.5135  108.59   7491505   \n",
       "2019-05-01 04:00:00+00:00  108.47  108.7600  108.3200  108.40   6387911   \n",
       "2019-05-02 04:00:00+00:00  108.30  108.3300  108.1000  108.16   3379510   \n",
       "...                           ...       ...       ...     ...       ...   \n",
       "2022-04-20 04:00:00+00:00  103.36  103.7356  103.3000  103.61   8434303   \n",
       "2022-04-21 04:00:00+00:00  103.44  103.4700  102.7900  103.04  11393860   \n",
       "2022-04-22 04:00:00+00:00  102.73  103.1800  102.6700  102.94   9152665   \n",
       "2022-04-25 04:00:00+00:00  103.47  103.9300  103.4700  103.63   8768318   \n",
       "2022-04-26 04:00:00+00:00  104.13  104.1300  103.8000  103.95   8533802   \n",
       "\n",
       "                                                                   SPY  \\\n",
       "                          trade_count        vwap daily_return    open   \n",
       "timestamp                                                                \n",
       "2019-04-26 04:00:00+00:00        8664  108.705413          NaN  292.12   \n",
       "2019-04-29 04:00:00+00:00        8977  108.539174    -0.001748  293.53   \n",
       "2019-04-30 04:00:00+00:00       17892  108.620462     0.000645  293.52   \n",
       "2019-05-01 04:00:00+00:00       23490  108.455634    -0.001750  294.76   \n",
       "2019-05-02 04:00:00+00:00       10083  108.172602    -0.002214  291.68   \n",
       "...                               ...         ...          ...     ...   \n",
       "2022-04-20 04:00:00+00:00       32866  103.528935     0.005727  446.95   \n",
       "2022-04-21 04:00:00+00:00       35595  103.047589    -0.005501  448.58   \n",
       "2022-04-22 04:00:00+00:00       31498  102.925863    -0.000970  436.94   \n",
       "2022-04-25 04:00:00+00:00       31373  103.691097     0.006703  423.70   \n",
       "2022-04-26 04:00:00+00:00       30915  103.960003     0.003088  425.92   \n",
       "\n",
       "                                                                              \\\n",
       "                               high       low   close     volume trade_count   \n",
       "timestamp                                                                      \n",
       "2019-04-26 04:00:00+00:00  293.4900  291.2401  293.41   51449173      220594   \n",
       "2019-04-29 04:00:00+00:00  294.4500  293.4100  293.87   61675682      186857   \n",
       "2019-04-30 04:00:00+00:00  294.3400  291.9200  294.02   81411933      254912   \n",
       "2019-05-01 04:00:00+00:00  294.9500  291.8000  291.81   71921870      337374   \n",
       "2019-05-02 04:00:00+00:00  292.7000  289.5200  291.18   65058183      342564   \n",
       "...                             ...       ...     ...        ...         ...   \n",
       "2022-04-20 04:00:00+00:00  447.5700  443.4800  444.71   64737457      591762   \n",
       "2022-04-21 04:00:00+00:00  450.0100  437.1000  438.06   85097110      719682   \n",
       "2022-04-22 04:00:00+00:00  438.0825  425.4400  426.04  132156403      972064   \n",
       "2022-04-25 04:00:00+00:00  428.6900  418.8400  428.51  119103454     1139830   \n",
       "2022-04-26 04:00:00+00:00  426.0400  416.0700  416.10  101074178     1001090   \n",
       "\n",
       "                                                    \n",
       "                                 vwap daily_return  \n",
       "timestamp                                           \n",
       "2019-04-26 04:00:00+00:00  292.642502          NaN  \n",
       "2019-04-29 04:00:00+00:00  293.871519     0.001568  \n",
       "2019-04-30 04:00:00+00:00  293.551590     0.000510  \n",
       "2019-05-01 04:00:00+00:00  293.457138    -0.007516  \n",
       "2019-05-02 04:00:00+00:00  291.101680    -0.002159  \n",
       "...                               ...          ...  \n",
       "2022-04-20 04:00:00+00:00  445.610168    -0.000742  \n",
       "2022-04-21 04:00:00+00:00  442.772969    -0.014954  \n",
       "2022-04-22 04:00:00+00:00  429.813156    -0.027439  \n",
       "2022-04-25 04:00:00+00:00  423.952513     0.005798  \n",
       "2022-04-26 04:00:00+00:00  420.127020    -0.028961  \n",
       "\n",
       "[757 rows x 16 columns]"
      ]
     },
     "execution_count": 49,
     "metadata": {},
     "output_type": "execute_result"
    }
   ],
   "source": [
    "# Configure the Monte Carlo simulation to forecast 30 years cumulative returns\n",
    "# The weights should be split 40% to AGG and 60% to SPY.\n",
    "# Run 500 samples.\n",
    "MC_thirty_year = MCSimulation(\n",
    "    portfolio_data = prices_df,\n",
    "    weights = [.40, .60],\n",
    "    num_simulation = 100,\n",
    "    num_trading_days = 252 * 30\n",
    ")\n",
    "\n",
    "# Review the simulation input data\n",
    "MC_thirty_year.portfolio_data\n"
   ]
  },
  {
   "cell_type": "code",
   "execution_count": 51,
   "metadata": {},
   "outputs": [
    {
     "name": "stdout",
     "output_type": "stream",
     "text": [
      "Running Monte Carlo simulation number 0.\n",
      "Running Monte Carlo simulation number 10.\n",
      "Running Monte Carlo simulation number 20.\n",
      "Running Monte Carlo simulation number 30.\n",
      "Running Monte Carlo simulation number 40.\n",
      "Running Monte Carlo simulation number 50.\n",
      "Running Monte Carlo simulation number 60.\n",
      "Running Monte Carlo simulation number 70.\n",
      "Running Monte Carlo simulation number 80.\n",
      "Running Monte Carlo simulation number 90.\n"
     ]
    },
    {
     "data": {
      "text/html": [
       "<div>\n",
       "<style scoped>\n",
       "    .dataframe tbody tr th:only-of-type {\n",
       "        vertical-align: middle;\n",
       "    }\n",
       "\n",
       "    .dataframe tbody tr th {\n",
       "        vertical-align: top;\n",
       "    }\n",
       "\n",
       "    .dataframe thead th {\n",
       "        text-align: right;\n",
       "    }\n",
       "</style>\n",
       "<table border=\"1\" class=\"dataframe\">\n",
       "  <thead>\n",
       "    <tr style=\"text-align: right;\">\n",
       "      <th></th>\n",
       "      <th>0</th>\n",
       "      <th>1</th>\n",
       "      <th>2</th>\n",
       "      <th>3</th>\n",
       "      <th>4</th>\n",
       "      <th>5</th>\n",
       "      <th>6</th>\n",
       "      <th>7</th>\n",
       "      <th>8</th>\n",
       "      <th>9</th>\n",
       "      <th>...</th>\n",
       "      <th>90</th>\n",
       "      <th>91</th>\n",
       "      <th>92</th>\n",
       "      <th>93</th>\n",
       "      <th>94</th>\n",
       "      <th>95</th>\n",
       "      <th>96</th>\n",
       "      <th>97</th>\n",
       "      <th>98</th>\n",
       "      <th>99</th>\n",
       "    </tr>\n",
       "  </thead>\n",
       "  <tbody>\n",
       "    <tr>\n",
       "      <th>0</th>\n",
       "      <td>1.000000</td>\n",
       "      <td>1.000000</td>\n",
       "      <td>1.000000</td>\n",
       "      <td>1.000000</td>\n",
       "      <td>1.000000</td>\n",
       "      <td>1.000000</td>\n",
       "      <td>1.000000</td>\n",
       "      <td>1.000000</td>\n",
       "      <td>1.000000</td>\n",
       "      <td>1.000000</td>\n",
       "      <td>...</td>\n",
       "      <td>1.000000</td>\n",
       "      <td>1.000000</td>\n",
       "      <td>1.000000</td>\n",
       "      <td>1.000000</td>\n",
       "      <td>1.000000</td>\n",
       "      <td>1.000000</td>\n",
       "      <td>1.000000</td>\n",
       "      <td>1.000000</td>\n",
       "      <td>1.000000</td>\n",
       "      <td>1.000000</td>\n",
       "    </tr>\n",
       "    <tr>\n",
       "      <th>1</th>\n",
       "      <td>1.007541</td>\n",
       "      <td>1.005409</td>\n",
       "      <td>1.001785</td>\n",
       "      <td>1.004972</td>\n",
       "      <td>1.010169</td>\n",
       "      <td>1.008750</td>\n",
       "      <td>0.997519</td>\n",
       "      <td>1.000661</td>\n",
       "      <td>1.003461</td>\n",
       "      <td>1.001018</td>\n",
       "      <td>...</td>\n",
       "      <td>1.008505</td>\n",
       "      <td>0.999753</td>\n",
       "      <td>1.010752</td>\n",
       "      <td>1.004838</td>\n",
       "      <td>1.012586</td>\n",
       "      <td>1.001016</td>\n",
       "      <td>1.002974</td>\n",
       "      <td>1.008815</td>\n",
       "      <td>1.001165</td>\n",
       "      <td>1.006775</td>\n",
       "    </tr>\n",
       "    <tr>\n",
       "      <th>2</th>\n",
       "      <td>0.999067</td>\n",
       "      <td>1.011623</td>\n",
       "      <td>1.009188</td>\n",
       "      <td>1.007359</td>\n",
       "      <td>1.018437</td>\n",
       "      <td>1.018351</td>\n",
       "      <td>0.995890</td>\n",
       "      <td>1.005088</td>\n",
       "      <td>1.017319</td>\n",
       "      <td>0.995174</td>\n",
       "      <td>...</td>\n",
       "      <td>0.987115</td>\n",
       "      <td>0.992333</td>\n",
       "      <td>1.019594</td>\n",
       "      <td>1.010082</td>\n",
       "      <td>1.012474</td>\n",
       "      <td>0.995916</td>\n",
       "      <td>0.990202</td>\n",
       "      <td>1.035563</td>\n",
       "      <td>0.987904</td>\n",
       "      <td>1.007682</td>\n",
       "    </tr>\n",
       "    <tr>\n",
       "      <th>3</th>\n",
       "      <td>1.009983</td>\n",
       "      <td>1.009043</td>\n",
       "      <td>1.012255</td>\n",
       "      <td>0.992222</td>\n",
       "      <td>1.037168</td>\n",
       "      <td>1.023718</td>\n",
       "      <td>0.998892</td>\n",
       "      <td>0.993927</td>\n",
       "      <td>1.022119</td>\n",
       "      <td>1.010843</td>\n",
       "      <td>...</td>\n",
       "      <td>0.974870</td>\n",
       "      <td>0.985908</td>\n",
       "      <td>1.025939</td>\n",
       "      <td>0.999254</td>\n",
       "      <td>1.019998</td>\n",
       "      <td>0.987906</td>\n",
       "      <td>1.001610</td>\n",
       "      <td>1.039290</td>\n",
       "      <td>0.989274</td>\n",
       "      <td>1.017738</td>\n",
       "    </tr>\n",
       "    <tr>\n",
       "      <th>4</th>\n",
       "      <td>1.016608</td>\n",
       "      <td>1.010662</td>\n",
       "      <td>1.026827</td>\n",
       "      <td>0.981852</td>\n",
       "      <td>1.038467</td>\n",
       "      <td>1.030656</td>\n",
       "      <td>0.987576</td>\n",
       "      <td>1.001090</td>\n",
       "      <td>1.025070</td>\n",
       "      <td>1.003829</td>\n",
       "      <td>...</td>\n",
       "      <td>0.966190</td>\n",
       "      <td>0.980120</td>\n",
       "      <td>1.018769</td>\n",
       "      <td>0.981344</td>\n",
       "      <td>1.014933</td>\n",
       "      <td>0.989178</td>\n",
       "      <td>0.983640</td>\n",
       "      <td>1.035374</td>\n",
       "      <td>0.967698</td>\n",
       "      <td>1.019427</td>\n",
       "    </tr>\n",
       "    <tr>\n",
       "      <th>...</th>\n",
       "      <td>...</td>\n",
       "      <td>...</td>\n",
       "      <td>...</td>\n",
       "      <td>...</td>\n",
       "      <td>...</td>\n",
       "      <td>...</td>\n",
       "      <td>...</td>\n",
       "      <td>...</td>\n",
       "      <td>...</td>\n",
       "      <td>...</td>\n",
       "      <td>...</td>\n",
       "      <td>...</td>\n",
       "      <td>...</td>\n",
       "      <td>...</td>\n",
       "      <td>...</td>\n",
       "      <td>...</td>\n",
       "      <td>...</td>\n",
       "      <td>...</td>\n",
       "      <td>...</td>\n",
       "      <td>...</td>\n",
       "      <td>...</td>\n",
       "    </tr>\n",
       "    <tr>\n",
       "      <th>7556</th>\n",
       "      <td>13.264331</td>\n",
       "      <td>3.039998</td>\n",
       "      <td>10.765496</td>\n",
       "      <td>9.431076</td>\n",
       "      <td>20.859681</td>\n",
       "      <td>8.649593</td>\n",
       "      <td>4.968841</td>\n",
       "      <td>8.474649</td>\n",
       "      <td>9.275067</td>\n",
       "      <td>3.632198</td>\n",
       "      <td>...</td>\n",
       "      <td>6.195309</td>\n",
       "      <td>9.992871</td>\n",
       "      <td>11.879951</td>\n",
       "      <td>2.558201</td>\n",
       "      <td>65.959726</td>\n",
       "      <td>6.634924</td>\n",
       "      <td>5.151961</td>\n",
       "      <td>19.159185</td>\n",
       "      <td>16.076083</td>\n",
       "      <td>3.816331</td>\n",
       "    </tr>\n",
       "    <tr>\n",
       "      <th>7557</th>\n",
       "      <td>13.120675</td>\n",
       "      <td>3.063665</td>\n",
       "      <td>10.828486</td>\n",
       "      <td>9.464903</td>\n",
       "      <td>20.851557</td>\n",
       "      <td>8.424831</td>\n",
       "      <td>4.996228</td>\n",
       "      <td>8.486826</td>\n",
       "      <td>9.350529</td>\n",
       "      <td>3.594884</td>\n",
       "      <td>...</td>\n",
       "      <td>6.116567</td>\n",
       "      <td>9.825324</td>\n",
       "      <td>11.701774</td>\n",
       "      <td>2.554274</td>\n",
       "      <td>64.612721</td>\n",
       "      <td>6.535189</td>\n",
       "      <td>5.049951</td>\n",
       "      <td>19.237909</td>\n",
       "      <td>15.971739</td>\n",
       "      <td>3.843048</td>\n",
       "    </tr>\n",
       "    <tr>\n",
       "      <th>7558</th>\n",
       "      <td>13.254036</td>\n",
       "      <td>3.054771</td>\n",
       "      <td>10.802707</td>\n",
       "      <td>9.450263</td>\n",
       "      <td>20.664575</td>\n",
       "      <td>8.549486</td>\n",
       "      <td>5.042232</td>\n",
       "      <td>8.570353</td>\n",
       "      <td>9.536877</td>\n",
       "      <td>3.629258</td>\n",
       "      <td>...</td>\n",
       "      <td>6.132007</td>\n",
       "      <td>9.943726</td>\n",
       "      <td>11.701086</td>\n",
       "      <td>2.577909</td>\n",
       "      <td>63.939391</td>\n",
       "      <td>6.568459</td>\n",
       "      <td>5.075760</td>\n",
       "      <td>19.301782</td>\n",
       "      <td>16.321422</td>\n",
       "      <td>3.860265</td>\n",
       "    </tr>\n",
       "    <tr>\n",
       "      <th>7559</th>\n",
       "      <td>13.234981</td>\n",
       "      <td>3.049497</td>\n",
       "      <td>10.810279</td>\n",
       "      <td>9.410755</td>\n",
       "      <td>20.641204</td>\n",
       "      <td>8.521502</td>\n",
       "      <td>5.048854</td>\n",
       "      <td>8.548501</td>\n",
       "      <td>9.598731</td>\n",
       "      <td>3.661693</td>\n",
       "      <td>...</td>\n",
       "      <td>6.035248</td>\n",
       "      <td>9.884718</td>\n",
       "      <td>11.611243</td>\n",
       "      <td>2.539139</td>\n",
       "      <td>64.455710</td>\n",
       "      <td>6.621046</td>\n",
       "      <td>5.024794</td>\n",
       "      <td>19.190244</td>\n",
       "      <td>16.309875</td>\n",
       "      <td>3.870781</td>\n",
       "    </tr>\n",
       "    <tr>\n",
       "      <th>7560</th>\n",
       "      <td>13.291668</td>\n",
       "      <td>3.031830</td>\n",
       "      <td>10.919534</td>\n",
       "      <td>9.394358</td>\n",
       "      <td>20.453508</td>\n",
       "      <td>8.554719</td>\n",
       "      <td>5.039080</td>\n",
       "      <td>8.512079</td>\n",
       "      <td>9.542215</td>\n",
       "      <td>3.626134</td>\n",
       "      <td>...</td>\n",
       "      <td>5.976533</td>\n",
       "      <td>9.864769</td>\n",
       "      <td>11.588394</td>\n",
       "      <td>2.563283</td>\n",
       "      <td>64.906444</td>\n",
       "      <td>6.552331</td>\n",
       "      <td>5.049076</td>\n",
       "      <td>19.276995</td>\n",
       "      <td>16.280474</td>\n",
       "      <td>3.891735</td>\n",
       "    </tr>\n",
       "  </tbody>\n",
       "</table>\n",
       "<p>7561 rows × 100 columns</p>\n",
       "</div>"
      ],
      "text/plain": [
       "             0         1          2         3          4         5         6   \\\n",
       "0      1.000000  1.000000   1.000000  1.000000   1.000000  1.000000  1.000000   \n",
       "1      1.007541  1.005409   1.001785  1.004972   1.010169  1.008750  0.997519   \n",
       "2      0.999067  1.011623   1.009188  1.007359   1.018437  1.018351  0.995890   \n",
       "3      1.009983  1.009043   1.012255  0.992222   1.037168  1.023718  0.998892   \n",
       "4      1.016608  1.010662   1.026827  0.981852   1.038467  1.030656  0.987576   \n",
       "...         ...       ...        ...       ...        ...       ...       ...   \n",
       "7556  13.264331  3.039998  10.765496  9.431076  20.859681  8.649593  4.968841   \n",
       "7557  13.120675  3.063665  10.828486  9.464903  20.851557  8.424831  4.996228   \n",
       "7558  13.254036  3.054771  10.802707  9.450263  20.664575  8.549486  5.042232   \n",
       "7559  13.234981  3.049497  10.810279  9.410755  20.641204  8.521502  5.048854   \n",
       "7560  13.291668  3.031830  10.919534  9.394358  20.453508  8.554719  5.039080   \n",
       "\n",
       "            7         8         9   ...        90        91         92  \\\n",
       "0     1.000000  1.000000  1.000000  ...  1.000000  1.000000   1.000000   \n",
       "1     1.000661  1.003461  1.001018  ...  1.008505  0.999753   1.010752   \n",
       "2     1.005088  1.017319  0.995174  ...  0.987115  0.992333   1.019594   \n",
       "3     0.993927  1.022119  1.010843  ...  0.974870  0.985908   1.025939   \n",
       "4     1.001090  1.025070  1.003829  ...  0.966190  0.980120   1.018769   \n",
       "...        ...       ...       ...  ...       ...       ...        ...   \n",
       "7556  8.474649  9.275067  3.632198  ...  6.195309  9.992871  11.879951   \n",
       "7557  8.486826  9.350529  3.594884  ...  6.116567  9.825324  11.701774   \n",
       "7558  8.570353  9.536877  3.629258  ...  6.132007  9.943726  11.701086   \n",
       "7559  8.548501  9.598731  3.661693  ...  6.035248  9.884718  11.611243   \n",
       "7560  8.512079  9.542215  3.626134  ...  5.976533  9.864769  11.588394   \n",
       "\n",
       "            93         94        95        96         97         98        99  \n",
       "0     1.000000   1.000000  1.000000  1.000000   1.000000   1.000000  1.000000  \n",
       "1     1.004838   1.012586  1.001016  1.002974   1.008815   1.001165  1.006775  \n",
       "2     1.010082   1.012474  0.995916  0.990202   1.035563   0.987904  1.007682  \n",
       "3     0.999254   1.019998  0.987906  1.001610   1.039290   0.989274  1.017738  \n",
       "4     0.981344   1.014933  0.989178  0.983640   1.035374   0.967698  1.019427  \n",
       "...        ...        ...       ...       ...        ...        ...       ...  \n",
       "7556  2.558201  65.959726  6.634924  5.151961  19.159185  16.076083  3.816331  \n",
       "7557  2.554274  64.612721  6.535189  5.049951  19.237909  15.971739  3.843048  \n",
       "7558  2.577909  63.939391  6.568459  5.075760  19.301782  16.321422  3.860265  \n",
       "7559  2.539139  64.455710  6.621046  5.024794  19.190244  16.309875  3.870781  \n",
       "7560  2.563283  64.906444  6.552331  5.049076  19.276995  16.280474  3.891735  \n",
       "\n",
       "[7561 rows x 100 columns]"
      ]
     },
     "execution_count": 51,
     "metadata": {},
     "output_type": "execute_result"
    }
   ],
   "source": [
    "# Run the Monte Carlo simulation to forecast 30 years cumulative returns\n",
    "MC_thirty_year.calc_cumulative_return()\n"
   ]
  },
  {
   "cell_type": "code",
   "execution_count": 52,
   "metadata": {},
   "outputs": [
    {
     "data": {
      "text/plain": [
       "<AxesSubplot:title={'center':'100 Simulations of Cumulative Portfolio Return Trajectories Over the Next 7560 Trading Days.'}>"
      ]
     },
     "execution_count": 52,
     "metadata": {},
     "output_type": "execute_result"
    },
    {
     "data": {
      "image/png": "[encoded data removed]",
      "text/plain": [
       "<Figure size 432x288 with 1 Axes>"
      ]
     },
     "metadata": {
      "needs_background": "light"
     },
     "output_type": "display_data"
    }
   ],
   "source": [
    "# Visualize the 30-year Monte Carlo simulation by creating an\n",
    "# overlay line plot\n",
    "MC_thirty_year.plot_simulation()\n",
    "\n"
   ]
  },
  {
   "cell_type": "markdown",
   "metadata": {},
   "source": [
    "#### Step 3: Plot the probability distribution of the Monte Carlo simulation."
   ]
  },
  {
   "cell_type": "code",
   "execution_count": 53,
   "metadata": {},
   "outputs": [
    {
     "data": {
      "text/plain": [
       "<AxesSubplot:title={'center':'Distribution of Final Cumuluative Returns Across All 100 Simulations'}, ylabel='Frequency'>"
      ]
     },
     "execution_count": 53,
     "metadata": {},
     "output_type": "execute_result"
    },
    {
     "data": {
      "image/png": "[encoded data removed]",
      "text/plain": [
       "<Figure size 432x288 with 1 Axes>"
      ]
     },
     "metadata": {
      "needs_background": "light"
     },
     "output_type": "display_data"
    }
   ],
   "source": [
    "# Visualize the probability distribution of the 30-year Monte Carlo simulation \n",
    "# by plotting a histogram\n",
    "MC_thirty_year.plot_distribution()\n",
    "\n"
   ]
  },
  {
   "cell_type": "markdown",
   "metadata": {},
   "source": [
    "#### Step 4: Generate the summary statistics for the Monte Carlo simulation."
   ]
  },
  {
   "cell_type": "code",
   "execution_count": 54,
   "metadata": {},
   "outputs": [
    {
     "data": {
      "text/plain": [
       "count           100.000000\n",
       "mean             12.434415\n",
       "std              12.922642\n",
       "min               1.635446\n",
       "25%               5.694151\n",
       "50%               9.691206\n",
       "75%              13.716883\n",
       "max              92.925683\n",
       "95% CI Lower      2.559591\n",
       "95% CI Upper     50.306092\n",
       "Name: 7560, dtype: float64"
      ]
     },
     "execution_count": 54,
     "metadata": {},
     "output_type": "execute_result"
    }
   ],
   "source": [
    "# Generate summary statistics from the 30-year Monte Carlo simulation results\n",
    "# Save the results as a variable\n",
    "summary_30 = MC_thirty_year.summarize_cumulative_return()\n",
    "\n",
    "\n",
    "# Review the 30-year Monte Carlo summary statistics\n",
    "summary_30"
   ]
  },
  {
   "cell_type": "markdown",
   "metadata": {},
   "source": [
    "### Analyze the Retirement Portfolio Forecasts\n",
    "\n",
    "Using the current value of only the stock and bond portion of the member's portfolio and the summary statistics that you generated from the Monte Carlo simulation, answer the following question in your Jupyter notebook:\n",
    "\n",
    "-  What are the lower and upper bounds for the expected value of the portfolio with a 95% confidence interval?\n"
   ]
  },
  {
   "cell_type": "code",
   "execution_count": 55,
   "metadata": {},
   "outputs": [
    {
     "data": {
      "text/plain": [
       "69558.4"
      ]
     },
     "execution_count": 55,
     "metadata": {},
     "output_type": "execute_result"
    }
   ],
   "source": [
    "# Print the current balance of the stock and bond portion of the members portfolio\n",
    "total_stocks_bonds\n"
   ]
  },
  {
   "cell_type": "code",
   "execution_count": 58,
   "metadata": {},
   "outputs": [
    {
     "name": "stdout",
     "output_type": "stream",
     "text": [
      "Given the initial investment and allocation of $69558.40, the model predicts the \n",
      "value after 30 years to be between $178041.02 and $3499211.26\n"
     ]
    }
   ],
   "source": [
    "# Use the lower and upper `95%` confidence intervals to calculate the range of the possible outcomes for the current stock/bond portfolio\n",
    "ci_lower_thirty_cumulative_return = round(total_stocks_bonds * summary_30[8], 2)\n",
    "ci_upper_thirty_cumulative_return = round(total_stocks_bonds * summary_30[9], 2)\n",
    "\n",
    "# Print the result of your calculations\n",
    "print(f'''Given the initial investment and allocation of ${total_stocks_bonds:.2f}, the model predicts the \n",
    "value after 30 years to be between ${ci_lower_thirty_cumulative_return} and ${ci_upper_thirty_cumulative_return}''')\n"
   ]
  },
  {
   "cell_type": "markdown",
   "metadata": {},
   "source": [
    "### Forecast Cumulative Returns in 10 Years\n",
    "\n",
    "The CTO of the credit union is impressed with your work on these planning tools but wonders if 30 years is a long time to wait until retirement. So, your next task is to adjust the retirement portfolio and run a new Monte Carlo simulation to find out if the changes will allow members to retire earlier.\n",
    "\n",
    "For this new Monte Carlo simulation, do the following: \n",
    "\n",
    "- Forecast the cumulative returns for 10 years from now. Because of the shortened investment horizon (30 years to 10 years), the portfolio needs to invest more heavily in the riskier asset&mdash;that is, stock&mdash;to help accumulate wealth for retirement. \n",
    "\n",
    "- Adjust the weights of the retirement portfolio so that the composition for the Monte Carlo simulation consists of 20% bonds and 80% stocks. \n",
    "\n",
    "- Run the simulation over 500 samples, and use the same data that the API call to Alpaca generated.\n",
    "\n",
    "- Based on the new Monte Carlo simulation, answer the following questions in your Jupyter notebook:\n",
    "\n",
    "    - Using the current value of only the stock and bond portion of the member's portfolio and the summary statistics that you generated from the new Monte Carlo simulation, what are the lower and upper bounds for the expected value of the portfolio (with the new weights) with a 95% confidence interval?\n",
    "\n",
    "    - Will weighting the portfolio more heavily toward stocks allow the credit union members to retire after only 10 years?\n"
   ]
  },
  {
   "cell_type": "code",
   "execution_count": null,
   "metadata": {},
   "outputs": [],
   "source": [
    "# Configure a Monte Carlo simulation to forecast 10 years cumulative returns\n",
    "# The weights should be split 20% to AGG and 80% to SPY.\n",
    "# Run 500 samples.\n",
    "# YOUR CODE HERE\n",
    "\n",
    "# Review the simulation input data\n",
    "# YOUR CODE HERE\n"
   ]
  },
  {
   "cell_type": "code",
   "execution_count": null,
   "metadata": {},
   "outputs": [],
   "source": [
    "# Run the Monte Carlo simulation to forecast 10 years cumulative returns\n",
    "# YOUR CODE HERE\n"
   ]
  },
  {
   "cell_type": "code",
   "execution_count": null,
   "metadata": {},
   "outputs": [],
   "source": [
    "# Visualize the 10-year Monte Carlo simulation by creating an\n",
    "# overlay line plot\n",
    "# YOUR CODE HERE\n"
   ]
  },
  {
   "cell_type": "code",
   "execution_count": null,
   "metadata": {},
   "outputs": [],
   "source": [
    "# Visualize the probability distribution of the 10-year Monte Carlo simulation \n",
    "# by plotting a histogram\n",
    "# YOUR CODE HERE\n"
   ]
  },
  {
   "cell_type": "code",
   "execution_count": null,
   "metadata": {},
   "outputs": [],
   "source": [
    "# Generate summary statistics from the 10-year Monte Carlo simulation results\n",
    "# Save the results as a variable\n",
    "# YOUR CODE HERE\n",
    "\n",
    "\n",
    "# Review the 10-year Monte Carlo summary statistics\n",
    "# YOUR CODE HERE"
   ]
  },
  {
   "cell_type": "markdown",
   "metadata": {},
   "source": [
    "### Answer the following questions:"
   ]
  },
  {
   "cell_type": "markdown",
   "metadata": {},
   "source": [
    "#### Question: Using the current value of only the stock and bond portion of the member's portfolio and the summary statistics that you generated from the new Monte Carlo simulation, what are the lower and upper bounds for the expected value of the portfolio (with the new weights) with a 95% confidence interval?"
   ]
  },
  {
   "cell_type": "code",
   "execution_count": null,
   "metadata": {},
   "outputs": [],
   "source": [
    "# Print the current balance of the stock and bond portion of the members portfolio\n",
    "# YOUR CODE HERE\n"
   ]
  },
  {
   "cell_type": "code",
   "execution_count": null,
   "metadata": {},
   "outputs": [],
   "source": [
    "# Use the lower and upper `95%` confidence intervals to calculate the range of the possible outcomes for the current stock/bond portfolio\n",
    "ci_lower_ten_cumulative_return = # YOUR CODE HERE\n",
    "ci_upper_ten_cumulative_return = # YOUR CODE HERE\n",
    "\n",
    "# Print the result of your calculations\n",
    "# YOUR CODE HERE\n"
   ]
  },
  {
   "cell_type": "markdown",
   "metadata": {},
   "source": [
    "#### Question: Will weighting the portfolio more heavily to stocks allow the credit union members to retire after only 10 years?"
   ]
  },
  {
   "cell_type": "code",
   "execution_count": null,
   "metadata": {},
   "outputs": [],
   "source": [
    "**Answer** # YOUR ANSWER HERE"
   ]
  },
  {
   "cell_type": "code",
   "execution_count": null,
   "metadata": {},
   "outputs": [],
   "source": []
  }
 ],
 "metadata": {
  "kernelspec": {
   "display_name": "Python 3 (ipykernel)",
   "language": "python",
   "name": "python3"
  },
  "language_info": {
   "codemirror_mode": {
    "name": "ipython",
    "version": 3
   },
   "file_extension": ".py",
   "mimetype": "text/x-python",
   "name": "python",
   "nbconvert_exporter": "python",
   "pygments_lexer": "ipython3",
   "version": "3.7.11"
  }
 },
 "nbformat": 4,
 "nbformat_minor": 4
}
